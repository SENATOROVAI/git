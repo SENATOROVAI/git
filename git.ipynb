{
 "cells": [
  {
   "cell_type": "code",
   "execution_count": null,
   "metadata": {},
   "outputs": [],
   "source": [
    "\"\"\"Git and the Organization of Software Projects. Main command\"\"\"\n"
   ]
  },
  {
   "cell_type": "markdown",
   "metadata": {},
   "source": [
    "`git --version`\n",
    "Displays the currently installed version of Git. This is useful to verify if Git is installed and to check which version you are using.\n",
    "\n",
    "## Create ##\n",
    "\n",
    "`git init`\n",
    "Initializes a new Git repository in the current directory. This command creates a .git folder that tracks all version history and changes for the project.\n",
    "\n",
    "`git clone <repository_url>`\n",
    "Creates a copy of an existing Git repository from a remote source (like GitHub) onto your local machine. It also sets up the connection to the remote repository for future updates.\n",
    "\n",
    "## Add changes ##\n",
    "\n",
    "`git add <filename>`\n",
    "Adds specific files to the staging area, preparing them to be committed. This tells Git to start tracking changes made to these files.\n",
    "\n",
    "## Save changes ##\n",
    "\n",
    "`git commit -am \"<commit_message>`\n",
    "Saves the staged changes to the repository with a descriptive message explaining the purpose of the changes. The -a flag automatically stages modified files (but not new ones), and the -m flag allows you to add the commit message inline.\n",
    "\n",
    "## Help ##\n",
    "\n",
    "`git help <command>`\n",
    "Displays the help documentation for a specific Git command. For example, git help init provides detailed information about the git init command. This is useful for learning about command options and usage."
   ]
  },
  {
   "cell_type": "markdown",
   "metadata": {},
   "source": [
    "## Git File States ##\n",
    "\n",
    "In Git, all files in the working directory are either tracked or untracked:\n",
    "\n",
    "- Tracked Files: These files have been added to the repository and are being monitored for changes.\n",
    "- Untracked Files: These files are present in your working directory but have not been added to the repository. From Git’s perspective, these files don’t exist until you explicitly add them.\n",
    "\n",
    "## Tracked Files: Three Possible States ##\n",
    "\n",
    "**Committed (Saved) / Unmodified (Clean):**\n",
    "\n",
    "- The file is identical to the version stored in the last commit.\n",
    "- No changes have been made since the last commit.\n",
    "- This is often referred to as the clean state because there are no pending changes.\n",
    "\n",
    "**Modified (Changed):**\n",
    "\n",
    "- The file has been altered in the working directory compared to the last committed version.\n",
    "- Git detects that changes have been made but these changes are not yet staged for the next commit.\n",
    "\n",
    "**Staged (Indexed/Prepared):**\n",
    "\n",
    "- The file has been modified and the changes have been marked to be included in the next commit using git add.\n",
    "- This file now resides in the staging area (also called the index or cache)."
   ]
  },
  {
   "cell_type": "markdown",
   "metadata": {},
   "source": [
    "## State Transitions\n",
    "\n",
    "### Untracked → Indexed:\n",
    "- Use the command:\n",
    "  ```bash\n",
    "  git add <file>\n",
    "  ```\n",
    "\n",
    "### Saved → Modified:\n",
    "- Happens automatically when the file is changed.\n",
    "- Does **not** require any Git commands.\n",
    "\n",
    "### Modified → Indexed:\n",
    "- Use the command:\n",
    "  ```bash\n",
    "  git add <file>\n",
    "  ```\n",
    "\n",
    "#### Indexed → Saved:\n",
    "- Use the command:\n",
    "  ```bash\n",
    "  git commit\n",
    "  ```\n"
   ]
  },
  {
   "cell_type": "markdown",
   "metadata": {},
   "source": [
    "## Check status ##\n",
    "\n",
    "```bash\n",
    "    git status\n",
    " ```"
   ]
  },
  {
   "cell_type": "markdown",
   "metadata": {},
   "source": [
    "## Stage and commit in one command ##\n",
    "\n",
    "`git commit -am \"Your message\"` - Stages all modified tracked files and commits them with the provided message in one step."
   ]
  },
  {
   "cell_type": "markdown",
   "metadata": {},
   "source": [
    "## Initialize repository ##\n",
    "\n",
    "`mkdir` - create folder\n",
    "`git init` - creates a new, empty Git repository in the current directory, initializing the .git folder to start version control."
   ]
  },
  {
   "cell_type": "markdown",
   "metadata": {
    "vscode": {
     "languageId": "plaintext"
    }
   },
   "source": [
    "## Adding files changes ##\n",
    "\n",
    "\n",
    "`git status` shows the current state of files\n",
    "`git add` to stage files (indexing)\n",
    "`git commit`  to create a commit.  \n",
    "\n",
    "**Common `git add` Usage:**  \n",
    "`git add file.txt` - Add a specific file.  \n",
    "`git add *.py` - Add all Python files.  \n",
    "`git add .` - Add all files in the current directory.\n"
   ]
  },
  {
   "cell_type": "markdown",
   "metadata": {},
   "source": [
    "## Ignore files in the repository ##\n",
    "\n",
    "A *.gitignore* file is used in Git to specify files and directories that should be ignored and not tracked by version control. This is useful for excluding temporary files, build outputs, sensitive information (like API keys), and system-specific files that are not relevant to the project's codebase. Each line in the .gitignore file defines a pattern to match filenames or paths.\n",
    "\n",
    "\n",
    "### Example\n",
    "\n",
    "```\n",
    "# Byte-compiled / optimized / DLL files\n",
    "__pycache__/\n",
    "*.py[cod]\n",
    "*$py.class\n",
    "```"
   ]
  },
  {
   "cell_type": "markdown",
   "metadata": {},
   "source": [
    "## Commit changes\n",
    "\n",
    "`git commit -am \"message\"` - save all modified files\n",
    "`git commit -m \"message\" file1.py file2.py` - save specific files\n",
    "`git commit --amend -m \"new_message\"` - edit the last commit"
   ]
  },
  {
   "cell_type": "markdown",
   "metadata": {},
   "source": [
    "## View changes before commit\n",
    "\n",
    "`git diff` - show all unstaged changes\n",
    "`git diff file.py` - show changes in a specific file"
   ]
  },
  {
   "cell_type": "markdown",
   "metadata": {},
   "source": [
    "## Delete files \n",
    "\n",
    "`git rm file.txt` - remove the file from the repository\n",
    "`git commit -m \"Deleted file.txt\"`  - commit the deletion\n",
    "\n"
   ]
  },
  {
   "cell_type": "markdown",
   "metadata": {},
   "source": [
    "## Renaming and Moving Files in Git\n",
    "\n",
    "`git mv old.txt new.txt`  - rename a file   \n",
    "`git mv file.txt new_folder/file.txt`  - move the file to the new folder\n",
    "`git mv old_path/old.txt new_path/new.txt` - move and rename the file in one step\n"
   ]
  },
  {
   "cell_type": "markdown",
   "metadata": {},
   "source": [
    "## Commit History ##\n",
    "\n",
    "`git log` - shows the full commit history.\n",
    "\n",
    "`git log --oneline` - displays a condensed format with one commit per line.\n",
    "\n",
    "`git log -n 3` - shows the last 3 commits.\n",
    "\n",
    "`git show <commit_hash>:file.txt` - displays the content of `file.txt` from a specific commit.\n"
   ]
  },
  {
   "cell_type": "markdown",
   "metadata": {},
   "source": [
    "## Reverting Unsaved Changes in Git\n",
    "\n",
    "\n",
    "`git restore file.txt` - reverts unsaved changes in a specific file (`file.txt`).\n",
    "\n",
    "`git checkout .` - reverts all unsaved changes in all files in the current working directory."
   ]
  },
  {
   "cell_type": "markdown",
   "metadata": {},
   "source": [
    "## Unstaging Files in Git\n",
    "\n",
    "\n",
    "`git restore --staged file.txt` - removes `file.txt` from the staging area (unstages the file) without deleting any changes made to it."
   ]
  },
  {
   "cell_type": "markdown",
   "metadata": {},
   "source": [
    "## Reverting the Last Commits in Git\n",
    "\n",
    "`git revert -n HEAD~3..HEAD` - reverts the last 3 commits without creating separate commits for each change (`-n` stands for \"no commit\").\n",
    "\n",
    "`git add .` - stages the reverted changes.\n",
    "\n",
    "`git commit -m \"Reverted changes\"` - commits the reverted changes to the repository."
   ]
  },
  {
   "cell_type": "markdown",
   "metadata": {},
   "source": [
    "## Reverting to a Specific Version of a File in Git\n",
    "\n",
    "`git show <commit_hash>:file.py` - displays the content of `file.py` from a specific commit identified by `<commit_hash>`.\n",
    "\n",
    "### Restoring a File to a Previous Version:\n",
    "\n",
    "`git checkout <commit_hash> -- file.py` -restores `file.py` to the version from the specified commit.\n",
    "\n",
    "`git add file.py` - stages the restored file for commit.\n",
    "\n",
    "`git commit -m \"Reverted to version <commit_hash>\"` - commits the restored version of the file to the repository."
   ]
  },
  {
   "cell_type": "markdown",
   "metadata": {},
   "source": [
    "## Preventing Data Leaks:\n",
    "\n",
    "Add sensitive files to the `.gitignore` file to prevent them from being tracked:\n",
    "```bash\n",
    ".env\n",
    "secrets.txt\n",
    "confidential.py\n",
    "*.key\n",
    "*.password\n",
    "```\n",
    "\n",
    "\n",
    "**If Sensitive Data Is Already in the Repository:**\n",
    "\n",
    "Use git filter-branch to rewrite history and remove the data.\n",
    "Recommended: Use BFG Repo-Cleaner for faster and simpler cleanup.\n",
    "For detailed instructions, refer to the GitHub guide on removing sensitive data from a [repository](https://docs.github.com/en/authentication/keeping-your-account-and-data-secure/removing-sensitive-data-from-a-repository). "
   ]
  }
 ],
 "metadata": {
  "language_info": {
   "name": "python"
  }
 },
 "nbformat": 4,
 "nbformat_minor": 2
}
